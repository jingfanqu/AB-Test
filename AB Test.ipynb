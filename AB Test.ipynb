{
 "cells": [
  {
   "cell_type": "markdown",
   "id": "d0e92101",
   "metadata": {},
   "source": [
    "### Dataset and Variables"
   ]
  },
  {
   "cell_type": "markdown",
   "id": "8580e505",
   "metadata": {},
   "source": [
    "- userid - a unique number that identifies each player.\n",
    "- version - whether the player was put in the control group (gate_30 - a gate at level 30) or the group with the moved gate (gate_40 - a gate at level 40).\n",
    "- sum_gamerounds - the number of game rounds played by the player during the first 14 days after install.\n",
    "- retention_1 - did the player come back and play 1 day after installing?\n",
    "- retention_7 - did the player come back and play 7 days after installing?"
   ]
  },
  {
   "cell_type": "code",
   "execution_count": 1,
   "id": "9cb8e985",
   "metadata": {},
   "outputs": [],
   "source": [
    "import pandas as pd\n",
    "import matplotlib.pyplot as plt"
   ]
  },
  {
   "cell_type": "code",
   "execution_count": 2,
   "id": "11b5b235",
   "metadata": {},
   "outputs": [
    {
     "data": {
      "text/html": [
       "<div>\n",
       "<style scoped>\n",
       "    .dataframe tbody tr th:only-of-type {\n",
       "        vertical-align: middle;\n",
       "    }\n",
       "\n",
       "    .dataframe tbody tr th {\n",
       "        vertical-align: top;\n",
       "    }\n",
       "\n",
       "    .dataframe thead th {\n",
       "        text-align: right;\n",
       "    }\n",
       "</style>\n",
       "<table border=\"1\" class=\"dataframe\">\n",
       "  <thead>\n",
       "    <tr style=\"text-align: right;\">\n",
       "      <th></th>\n",
       "      <th>userid</th>\n",
       "      <th>version</th>\n",
       "      <th>sum_gamerounds</th>\n",
       "      <th>retention_1</th>\n",
       "      <th>retention_7</th>\n",
       "    </tr>\n",
       "  </thead>\n",
       "  <tbody>\n",
       "    <tr>\n",
       "      <th>0</th>\n",
       "      <td>116</td>\n",
       "      <td>gate_30</td>\n",
       "      <td>3</td>\n",
       "      <td>False</td>\n",
       "      <td>False</td>\n",
       "    </tr>\n",
       "    <tr>\n",
       "      <th>1</th>\n",
       "      <td>337</td>\n",
       "      <td>gate_30</td>\n",
       "      <td>38</td>\n",
       "      <td>True</td>\n",
       "      <td>False</td>\n",
       "    </tr>\n",
       "    <tr>\n",
       "      <th>2</th>\n",
       "      <td>377</td>\n",
       "      <td>gate_40</td>\n",
       "      <td>165</td>\n",
       "      <td>True</td>\n",
       "      <td>False</td>\n",
       "    </tr>\n",
       "    <tr>\n",
       "      <th>3</th>\n",
       "      <td>483</td>\n",
       "      <td>gate_40</td>\n",
       "      <td>1</td>\n",
       "      <td>False</td>\n",
       "      <td>False</td>\n",
       "    </tr>\n",
       "    <tr>\n",
       "      <th>4</th>\n",
       "      <td>488</td>\n",
       "      <td>gate_40</td>\n",
       "      <td>179</td>\n",
       "      <td>True</td>\n",
       "      <td>True</td>\n",
       "    </tr>\n",
       "  </tbody>\n",
       "</table>\n",
       "</div>"
      ],
      "text/plain": [
       "   userid  version  sum_gamerounds  retention_1  retention_7\n",
       "0     116  gate_30               3        False        False\n",
       "1     337  gate_30              38         True        False\n",
       "2     377  gate_40             165         True        False\n",
       "3     483  gate_40               1        False        False\n",
       "4     488  gate_40             179         True         True"
      ]
     },
     "execution_count": 2,
     "metadata": {},
     "output_type": "execute_result"
    }
   ],
   "source": [
    "df = pd.read_csv(\"cookie_cats.csv\")\n",
    "df.head()"
   ]
  },
  {
   "cell_type": "code",
   "execution_count": 4,
   "id": "7ab12765",
   "metadata": {},
   "outputs": [
    {
     "data": {
      "text/plain": [
       "(90189, 5)"
      ]
     },
     "execution_count": 4,
     "metadata": {},
     "output_type": "execute_result"
    }
   ],
   "source": [
    "df.shape\n",
    "#The data is from 90,189 players that installed the game while the AB-test was running."
   ]
  },
  {
   "cell_type": "markdown",
   "id": "5e836e8f",
   "metadata": {},
   "source": [
    "### Descriptive Statistic "
   ]
  },
  {
   "cell_type": "code",
   "execution_count": 6,
   "id": "efdf6ded",
   "metadata": {},
   "outputs": [
    {
     "data": {
      "text/plain": [
       "array([    116,     337,     377, ..., 9999710, 9999768, 9999861])"
      ]
     },
     "execution_count": 6,
     "metadata": {},
     "output_type": "execute_result"
    }
   ],
   "source": [
    "df[\"userid\"].unique()"
   ]
  },
  {
   "cell_type": "code",
   "execution_count": 5,
   "id": "12101866",
   "metadata": {},
   "outputs": [
    {
     "data": {
      "text/plain": [
       "90189"
      ]
     },
     "execution_count": 5,
     "metadata": {},
     "output_type": "execute_result"
    }
   ],
   "source": [
    "df[\"userid\"].nunique()"
   ]
  },
  {
   "cell_type": "code",
   "execution_count": 7,
   "id": "16b7dec9",
   "metadata": {},
   "outputs": [
    {
     "data": {
      "text/html": [
       "<div>\n",
       "<style scoped>\n",
       "    .dataframe tbody tr th:only-of-type {\n",
       "        vertical-align: middle;\n",
       "    }\n",
       "\n",
       "    .dataframe tbody tr th {\n",
       "        vertical-align: top;\n",
       "    }\n",
       "\n",
       "    .dataframe thead th {\n",
       "        text-align: right;\n",
       "    }\n",
       "</style>\n",
       "<table border=\"1\" class=\"dataframe\">\n",
       "  <thead>\n",
       "    <tr style=\"text-align: right;\">\n",
       "      <th></th>\n",
       "      <th>userid</th>\n",
       "    </tr>\n",
       "    <tr>\n",
       "      <th>version</th>\n",
       "      <th></th>\n",
       "    </tr>\n",
       "  </thead>\n",
       "  <tbody>\n",
       "    <tr>\n",
       "      <th>gate_30</th>\n",
       "      <td>44700</td>\n",
       "    </tr>\n",
       "    <tr>\n",
       "      <th>gate_40</th>\n",
       "      <td>45489</td>\n",
       "    </tr>\n",
       "  </tbody>\n",
       "</table>\n",
       "</div>"
      ],
      "text/plain": [
       "         userid\n",
       "version        \n",
       "gate_30   44700\n",
       "gate_40   45489"
      ]
     },
     "execution_count": 7,
     "metadata": {},
     "output_type": "execute_result"
    }
   ],
   "source": [
    "df.groupby(\"version\")[[\"userid\"]].nunique()\n",
    "#there are roughly the same number of players in each A/B group"
   ]
  },
  {
   "cell_type": "markdown",
   "id": "2ac72a1e",
   "metadata": {},
   "source": [
    "Plot the distribution of the number of game rounds players played during their first week playing the game."
   ]
  },
  {
   "cell_type": "code",
   "execution_count": 12,
   "id": "80174545",
   "metadata": {},
   "outputs": [],
   "source": [
    "# The distribution of game rounds\n",
    "# Counting the number of players for each number of gamerounds \n",
    "plot_df = df.groupby(\"sum_gamerounds\")[\"userid\"].count()"
   ]
  },
  {
   "cell_type": "code",
   "execution_count": 13,
   "id": "0707a25a",
   "metadata": {},
   "outputs": [
    {
     "data": {
      "text/plain": [
       "sum_gamerounds\n",
       "0        3994\n",
       "1        5538\n",
       "2        4606\n",
       "3        3958\n",
       "4        3629\n",
       "         ... \n",
       "2294        1\n",
       "2438        1\n",
       "2640        1\n",
       "2961        1\n",
       "49854       1\n",
       "Name: userid, Length: 942, dtype: int64"
      ]
     },
     "execution_count": 13,
     "metadata": {},
     "output_type": "execute_result"
    }
   ],
   "source": [
    "plot_df"
   ]
  },
  {
   "cell_type": "code",
   "execution_count": 15,
   "id": "3dadb77b",
   "metadata": {},
   "outputs": [
    {
     "data": {
      "image/png": "[encoded data removed]",
      "text/plain": [
       "<Figure size 432x288 with 1 Axes>"
      ]
     },
     "metadata": {
      "needs_background": "light"
     },
     "output_type": "display_data"
    }
   ],
   "source": [
    "# Plotting the distribution of players that played 0 to 100 game rounds\n",
    "ax = plot_df.head(100).plot()\n",
    "plt.title(\"The distribution of players\", fontweight=\"bold\", size=14)\n",
    "plt.xlabel(\"total gamerounds\", size=12)\n",
    "plt.ylabel(\"number of player\", size=12)\n",
    "plt.show()"
   ]
  },
  {
   "cell_type": "markdown",
   "id": "69e0973f",
   "metadata": {},
   "source": [
    "In the plot above we can see that some players install the game but then never play it (0 game rounds)."
   ]
  },
  {
   "cell_type": "code",
   "execution_count": 16,
   "id": "01b55be9",
   "metadata": {},
   "outputs": [
    {
     "data": {
      "text/plain": [
       "3994"
      ]
     },
     "execution_count": 16,
     "metadata": {},
     "output_type": "execute_result"
    }
   ],
   "source": [
    "df[df[\"sum_gamerounds\"]== 0][\"userid\"].count()"
   ]
  },
  {
   "cell_type": "code",
   "execution_count": 17,
   "id": "516794f5",
   "metadata": {},
   "outputs": [
    {
     "name": "stdout",
     "output_type": "stream",
     "text": [
      "1-day retention ratio: 44.52%       \n",
      "7-days retention ratio: 18.61%\n"
     ]
    }
   ],
   "source": [
    "df_retention = df[[\"retention_1\",\"retention_7\"]].mean()*100\n",
    "print(f\"1-day retention ratio: {round(df_retention[0],2)}% \\\n",
    "      \\n7-days retention ratio: {round(df_retention[1],2)}%\")\n",
    "#we have a benchmark"
   ]
  },
  {
   "cell_type": "code",
   "execution_count": 18,
   "id": "8abf36c8",
   "metadata": {},
   "outputs": [
    {
     "data": {
      "text/html": [
       "<div>\n",
       "<style scoped>\n",
       "    .dataframe tbody tr th:only-of-type {\n",
       "        vertical-align: middle;\n",
       "    }\n",
       "\n",
       "    .dataframe tbody tr th {\n",
       "        vertical-align: top;\n",
       "    }\n",
       "\n",
       "    .dataframe thead th {\n",
       "        text-align: right;\n",
       "    }\n",
       "</style>\n",
       "<table border=\"1\" class=\"dataframe\">\n",
       "  <thead>\n",
       "    <tr style=\"text-align: right;\">\n",
       "      <th></th>\n",
       "      <th>userid</th>\n",
       "      <th>retention_1</th>\n",
       "      <th>retention_7</th>\n",
       "      <th>sum_gamerounds</th>\n",
       "    </tr>\n",
       "    <tr>\n",
       "      <th>version</th>\n",
       "      <th></th>\n",
       "      <th></th>\n",
       "      <th></th>\n",
       "      <th></th>\n",
       "    </tr>\n",
       "  </thead>\n",
       "  <tbody>\n",
       "    <tr>\n",
       "      <th>gate_30</th>\n",
       "      <td>44700</td>\n",
       "      <td>0.448188</td>\n",
       "      <td>0.190201</td>\n",
       "      <td>2344795</td>\n",
       "    </tr>\n",
       "    <tr>\n",
       "      <th>gate_40</th>\n",
       "      <td>45489</td>\n",
       "      <td>0.442283</td>\n",
       "      <td>0.182000</td>\n",
       "      <td>2333530</td>\n",
       "    </tr>\n",
       "  </tbody>\n",
       "</table>\n",
       "</div>"
      ],
      "text/plain": [
       "         userid  retention_1  retention_7  sum_gamerounds\n",
       "version                                                  \n",
       "gate_30   44700     0.448188     0.190201         2344795\n",
       "gate_40   45489     0.442283     0.182000         2333530"
      ]
     },
     "execution_count": 18,
     "metadata": {},
     "output_type": "execute_result"
    }
   ],
   "source": [
    "# Calculating 1-day and 7-days retention for each A/B group\n",
    "df_retention_ab = df.groupby(\"version\").agg({\"userid\":\"count\", \"retention_1\":\"mean\",\"retention_7\":\"mean\", \"sum_gamerounds\":\"sum\"})\n",
    "df_retention_ab"
   ]
  },
  {
   "cell_type": "markdown",
   "id": "0962cb87",
   "metadata": {},
   "source": [
    "### Bootstrapping "
   ]
  },
  {
   "cell_type": "markdown",
   "id": "a458bb13",
   "metadata": {},
   "source": [
    "- Creating 500 samples of dataset (bootstraping)\n",
    "- Calculating 1-day & 7-days retentions for A/B groups\n",
    "- Plotting the bootstrap distributions\n",
    "- Calculating retention rate difference between the two A/B groups\n",
    "- Calculating the probability that 1-day & 7-days retentions are greater when the gate is at level 30\n",
    "- Evaluating results and making recommendation"
   ]
  },
  {
   "cell_type": "code",
   "execution_count": 20,
   "id": "ea01a8c7",
   "metadata": {},
   "outputs": [
    {
     "data": {
      "image/png": "[encoded data removed]",
      "text/plain": [
       "<Figure size 936x360 with 2 Axes>"
      ]
     },
     "metadata": {
      "needs_background": "light"
     },
     "output_type": "display_data"
    }
   ],
   "source": [
    "# Creating an list with bootstrapped means for each A/B group\n",
    "boot_1d = []\n",
    "boot_7d = []\n",
    "for i in range(500):\n",
    "    boot_mean_1 = df.sample(frac=1, replace=True).groupby('version')['retention_1'].mean()\n",
    "    boot_mean_7 = df.sample(frac=1, replace=True).groupby('version')['retention_7'].mean()\n",
    "    boot_1d.append(boot_mean_1)\n",
    "    boot_7d.append(boot_mean_7)\n",
    "    \n",
    "# Transforming the list to a DataFrame\n",
    "boot_1d = pd.DataFrame(boot_1d)\n",
    "boot_7d = pd.DataFrame(boot_7d)\n",
    "\n",
    "# Kernel Density Estimate plot of the bootstrap distributions\n",
    "fig, (ax1,ax2) = plt.subplots(1, 2, sharey=True, figsize=(13,5))\n",
    "\n",
    "boot_1d.plot.kde(ax=ax1)\n",
    "ax1.set_xlabel(\"retantion rate\",size=12)\n",
    "ax1.set_ylabel(\"number of sample\",size=12)\n",
    "ax1.set_title(\"1 day retention rate distribution\", fontweight=\"bold\",size=14)\n",
    "\n",
    "boot_7d.plot.kde(ax=ax2)\n",
    "ax2.set_xlabel(\"retantion rate\",size=12)\n",
    "ax2.set_title(\"7 days retention rate distribution\", fontweight=\"bold\",size=14)\n",
    "plt.show()"
   ]
  },
  {
   "cell_type": "code",
   "execution_count": 21,
   "id": "2ceb8790",
   "metadata": {},
   "outputs": [
    {
     "data": {
      "image/png": "[encoded data removed]",
      "text/plain": [
       "<Figure size 432x360 with 1 Axes>"
      ]
     },
     "metadata": {
      "needs_background": "light"
     },
     "output_type": "display_data"
    }
   ],
   "source": [
    "# Adding a column with the % difference between the two A/B groups\n",
    "boot_1d['diff'] = ((boot_1d['gate_30'] - boot_1d['gate_40']) / boot_1d['gate_40'] * 100)\n",
    "boot_7d['diff'] = ((boot_7d['gate_30'] - boot_7d['gate_40']) / boot_7d['gate_40'] * 100)\n",
    "\n",
    "# Ploting the bootstrap % difference\n",
    "fig, (ax1) = plt.subplots(1, 1,figsize=(6,5))\n",
    "\n",
    "boot_1d['diff'].plot.kde(ax=ax1, c=\"#ff99ff\", label = \"1 day retention\")\n",
    "boot_7d['diff'].plot.kde(ax=ax1, c= \"#00bfff\", label = \"7 days retention\")\n",
    "ax1.set_xlabel(\"% difference\",size=12)\n",
    "ax1.set_ylabel(\"% density\",size=12)\n",
    "ax1.set_title(\"Difference in retention \\n between the two A/B groups\", fontweight=\"bold\", size=14)\n",
    "plt.legend()\n",
    "plt.show()"
   ]
  },
  {
   "cell_type": "code",
   "execution_count": 22,
   "id": "68493f50",
   "metadata": {},
   "outputs": [
    {
     "name": "stdout",
     "output_type": "stream",
     "text": [
      "The probability that 1-day retention is greater when the gate is at level 30: 96.0%       \n",
      "The probability that 7-days retention is greater when the gate is at level 30: 99.6% \n"
     ]
    }
   ],
   "source": [
    "# Calculating the probability that 1-day retention is greater when the gate is at level 30\n",
    "prob_1 = (boot_1d['diff']>0).sum()/len(boot_1d['diff'])\n",
    "\n",
    "# Calculating the probability that 7-days retention is greater when the gate is at level 30\n",
    "prob_7 = (boot_7d['diff']>0).sum()/len(boot_7d['diff'])\n",
    "\n",
    "# Pretty printing the probability\n",
    "print(f\"The probability that 1-day retention is greater when the gate is at level 30: {round(prob_1,2)*100}% \\\n",
    "      \\nThe probability that 7-days retention is greater when the gate is at level 30: {(prob_7)*100}% \")"
   ]
  },
  {
   "cell_type": "markdown",
   "id": "1953f051",
   "metadata": {},
   "source": [
    "### Conclusion"
   ]
  },
  {
   "cell_type": "markdown",
   "id": "adb0f734",
   "metadata": {},
   "source": [
    "If we want to keep retention high — both 1-day and 7-day retention — we should not move the gate from level 30 to level 40. There are, of course, other metrics we could look at, like the number of game rounds played or how much in-game purchases are made by the two AB-groups. But retention is one of the most important metrics."
   ]
  },
  {
   "cell_type": "code",
   "execution_count": null,
   "id": "6ef75229",
   "metadata": {},
   "outputs": [],
   "source": []
  }
 ],
 "metadata": {
  "kernelspec": {
   "display_name": "Python 3 (ipykernel)",
   "language": "python",
   "name": "python3"
  },
  "language_info": {
   "codemirror_mode": {
    "name": "ipython",
    "version": 3
   },
   "file_extension": ".py",
   "mimetype": "text/x-python",
   "name": "python",
   "nbconvert_exporter": "python",
   "pygments_lexer": "ipython3",
   "version": "3.9.12"
  }
 },
 "nbformat": 4,
 "nbformat_minor": 5
}
